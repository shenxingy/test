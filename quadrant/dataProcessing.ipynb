{
 "cells": [
  {
   "cell_type": "code",
   "execution_count": 50,
   "metadata": {},
   "outputs": [],
   "source": [
    "import pandas as pd\n",
    "import numpy as np"
   ]
  },
  {
   "cell_type": "code",
   "execution_count": 51,
   "metadata": {},
   "outputs": [],
   "source": [
    "df = pd.read_csv('result4.csv')\n",
    "df1 = pd.DataFrame()\n",
    "df1['firstAuthorName'] = df['Author Name'].str.split(',',expand=True)[0]\n",
    "df1[['firstAuthorPaperCount','firstAuthorCitationCount']] = df[['1st Author Paper Count','1st Author Citation Count']]\n",
    "df1 = df1.dropna()"
   ]
  },
  {
   "cell_type": "code",
   "execution_count": 52,
   "metadata": {},
   "outputs": [],
   "source": [
    "df1 = df1.sample(frac=1).reset_index(drop=True)\n",
    "df1 = df1.head(4500)"
   ]
  },
  {
   "cell_type": "code",
   "execution_count": 53,
   "metadata": {},
   "outputs": [],
   "source": [
    "#apply log to each column\n",
    "df1['firstAuthorCitationCount'] = df1['firstAuthorCitationCount'].apply(lambda x: -np.log(x))\n",
    "df1['firstAuthorPaperCount'] = df1['firstAuthorPaperCount'].apply(lambda x: np.log(x))"
   ]
  },
  {
   "cell_type": "code",
   "execution_count": 54,
   "metadata": {},
   "outputs": [],
   "source": [
    "Name = \"paper number VS citation number\"\n",
    "MinX = df1['firstAuthorPaperCount'].min()\n",
    "MaxX = df1['firstAuthorPaperCount'].max()\n",
    "MinY = df1['firstAuthorCitationCount'].min()\n",
    "MaxY = df1['firstAuthorCitationCount'].max()\n",
    "AvgX = df1['firstAuthorPaperCount'].mean()\n",
    "AvgY = df1['firstAuthorCitationCount'].mean()"
   ]
  },
  {
   "cell_type": "code",
   "execution_count": 55,
   "metadata": {},
   "outputs": [],
   "source": [
    "# df1 to dict\n",
    "Items = df1.to_dict(orient='records')\n",
    "#everything to dict\n",
    "Data = {'Name':Name,'MinX':MinX,'MaxX':MaxX,'MinY':MinY,'MaxY':MaxY,'AvgX':AvgX,'AvgY':AvgY,'Items':Items}\n",
    "#dict to json\n",
    "import json\n",
    "with open('data.json', 'w') as outfile:\n",
    "    json.dump(Data, outfile)"
   ]
  },
  {
   "cell_type": "code",
   "execution_count": null,
   "metadata": {},
   "outputs": [],
   "source": []
  }
 ],
 "metadata": {
  "kernelspec": {
   "display_name": "Python 3",
   "language": "python",
   "name": "python3"
  },
  "language_info": {
   "codemirror_mode": {
    "name": "ipython",
    "version": 3
   },
   "file_extension": ".py",
   "mimetype": "text/x-python",
   "name": "python",
   "nbconvert_exporter": "python",
   "pygments_lexer": "ipython3",
   "version": "3.9.7"
  },
  "orig_nbformat": 4
 },
 "nbformat": 4,
 "nbformat_minor": 2
}
